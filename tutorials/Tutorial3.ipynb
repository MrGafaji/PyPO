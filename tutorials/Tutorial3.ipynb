{
 "cells": [
  {
   "cell_type": "markdown",
   "id": "6c0b48b7",
   "metadata": {},
   "source": [
    "# Tutorial 3: performing physical optics propagations.\n",
    "\n",
    "In this third tutorial, we take the same optical system as in tutorial 2. However, instead of performing ray-traces through the system, we perform physical optics (PO)."
   ]
  },
  {
   "cell_type": "code",
   "execution_count": null,
   "id": "65ad00f7",
   "metadata": {},
   "outputs": [],
   "source": [
    "%matplotlib notebook\n",
    "\n",
    "import numpy as np\n",
    "\n",
    "from src.PyPO.System import System\n",
    "\n",
    "s = System()"
   ]
  },
  {
   "cell_type": "code",
   "execution_count": null,
   "id": "c9f9105b",
   "metadata": {},
   "outputs": [],
   "source": [
    "plane_focus = {\n",
    "            \"name\"      : \"plane_focus\",\n",
    "            \"gmode\"     : \"uv\",\n",
    "            \"lims_u\"    : np.array([0, 0.1]),\n",
    "            \"lims_v\"    : np.array([0, 360]),\n",
    "            \"gridsize\"  : np.array([101, 101])\n",
    "            }\n",
    "\n",
    "s.addPlane(plane_focus)\n",
    "\n",
    "GPODict = {                                                                                                                                                                     \n",
    "    \"name\"      : \"focus\",                                                                                                                                  \n",
    "    \"lam\"       : 0.01,                                                                                                      \n",
    "    \"w0x\"       : 0.05,                                                                                             \n",
    "    \"w0y\"       : 0.05,                                                                                             \n",
    "    \"n\"         : 1,                                                                                                                             \n",
    "    \"E0\"        : 1,                                                                                                                                  \n",
    "    \"dxyz\"      : 0,                                                                                                 \n",
    "    \"pol\"       : np.array([1, 0, 0])                                                                                                          \n",
    "}\n",
    "\n",
    "s.createGaussian(GPODict, \"plane_focus\")\n",
    "s.plotBeam2D(\"focus\", \"Ex\", vmin=-30, vmax=0)\n",
    "\n",
    "s.translateGrids(\"plane_focus\", np.array([0, 0, 100]))\n"
   ]
  },
  {
   "cell_type": "markdown",
   "id": "b1f07e2a",
   "metadata": {},
   "source": [
    "We start by defining a plane in the upper focus of the ellipsoid. We give it a radius of 0.1 mm. However, we do not place it in the focus just yet. First, we define a Gaussian PO beam on the plane. Because the Gaussian PO beams are always defined with their focus at x=y=z=0, we need to be careful to define this before we translate the focal plane.\n",
    "\n",
    "The Gaussian beam itself is created by passing a filled dictionary, called GPODict here, to the s.createGaussian method. The dictionary consists of several fields. The 'name' field contains the name by which the field will be stored in the system. 'lam' sets the wavelength, 0.01 mm in this case. After that, 'w0x' and 'w0y' set the beamwaist sizes along the x and y-axis in mm, respectively. The refractive index of the medium in which the beam is defined is set by 'n'. The peak electric field value at the focus is set by 'E0'. The astigmatic z-axis distance between the focus of the beam in the x-plane and the y-plane in mm is set by 'dxyz'. Note that, if this option is used, the focus in the x-plane is placed at z=0 and the focus in the y-plane at z=-dxyz. The final field, 'pol', sets the polarisation vector of the Gaussian beam."
   ]
  },
  {
   "cell_type": "code",
   "execution_count": null,
   "id": "34a1a03f",
   "metadata": {},
   "outputs": [],
   "source": [
    "ellipse = {\n",
    "            \"name\"      : \"ellipsoid\",\n",
    "            \"pmode\"     : \"focus\",\n",
    "            \"gmode\"     : \"uv\",\n",
    "            \"flip\"      : True,\n",
    "            \"focus_1\"   : np.array([0, 0, 100]),\n",
    "            \"focus_2\"   : np.array([0, 0, -100]),\n",
    "            \"orient\"    : \"z\",\n",
    "            \"ecc\"       : 0.5,\n",
    "            \"lims_u\"    : np.array([0, 10]),\n",
    "            \"lims_v\"    : np.array([0, 360]),\n",
    "            \"gridsize\"  : np.array([301, 301])\n",
    "            }\n",
    "\n",
    "s.addEllipse(ellipse)\n",
    "\n",
    "plane_t = {\n",
    "            \"name\"      : \"plane_t\",\n",
    "            \"gmode\"     : \"uv\",\n",
    "            \"lims_u\"    : np.array([0, 5]),\n",
    "            \"lims_v\"    : np.array([0, 360]),\n",
    "            \"gridsize\"  : np.array([301, 301])\n",
    "            }\n",
    "\n",
    "s.addPlane(plane_t)\n",
    "s.rotateGrids(\"plane_t\", np.array([45, 0, 0]))\n",
    "\n",
    "parabola = {\n",
    "            \"name\"      : \"paraboloid\",\n",
    "            \"pmode\"     : \"focus\",\n",
    "            \"gmode\"     : \"uv\",\n",
    "            \"focus_1\"   : np.array([0, -100, 0]),\n",
    "            \"vertex\"    : np.array([-10, -100, 0]),\n",
    "            \"lims_u\"    : np.array([0, 0.5]),\n",
    "            \"lims_v\"    : np.array([0, 360]),\n",
    "            \"gcenter\"   : np.array([0,-20]),\n",
    "            \"gridsize\"  : np.array([301, 301])\n",
    "            }\n",
    "\n",
    "s.addParabola(parabola)\n",
    "\n",
    "s.plotSystem()"
   ]
  },
  {
   "cell_type": "markdown",
   "id": "7c44b34b",
   "metadata": {},
   "source": [
    "Here, we basically re-create the system from the previous tutorial. However, as we are doing PO now, the size of the reflectors become important. In the previous tutorial we purposefully oversized the off-axis paraboloid reflector for illustrative purposes. This time, we size the paraboloid in such a way that the illuminating beam has an edge taper between -10 and -15 dB."
   ]
  },
  {
   "cell_type": "code",
   "execution_count": null,
   "id": "1d831187",
   "metadata": {},
   "outputs": [],
   "source": [
    "focus_to_ell_PO = {\n",
    "    \"t_name\"      : \"ellipsoid\",\n",
    "    \"s_current\"   : \"focus\",\n",
    "    \"mode\"        : \"JM\",\n",
    "    \"name_JM\"     : \"JM_ell\",\n",
    "    \"epsilon\"     : 10\n",
    "}\n",
    "\n",
    "s.runPO(focus_to_ell_PO)\n",
    "\n",
    "ell_to_plane_t_PO = {\n",
    "    \"t_name\"      : \"plane_t\",\n",
    "    \"s_current\"   : \"JM_ell\",\n",
    "    \"mode\"        : \"JM\",\n",
    "    \"name_JM\"     : \"JM_pt\",\n",
    "    \"epsilon\"     : 10\n",
    "}\n",
    "\n",
    "s.runPO(ell_to_plane_t_PO)\n",
    "\n",
    "plane_t_to_par_PO = {\n",
    "    \"t_name\"      : \"paraboloid\",\n",
    "    \"s_current\"   : \"JM_pt\",\n",
    "    \"mode\"        : \"JMEH\", ##TODO: This should be JMEH as we assign both JM and EH names.\n",
    "    \"name_JM\"     : \"JM_par\",\n",
    "    \"name_EH\"     : \"EH_par\",\n",
    "    \"epsilon\"     : 10\n",
    "}\n",
    "\n",
    "s.runPO(plane_t_to_par_PO)"
   ]
  },
  {
   "cell_type": "code",
   "execution_count": null,
   "id": "2d9f2fdb",
   "metadata": {
    "scrolled": false
   },
   "outputs": [],
   "source": [
    "s.plotBeam2D(\"EH_par\", \"Ex\", project=\"yz\", vmin=-30, vmax=0)"
   ]
  },
  {
   "cell_type": "markdown",
   "id": "d2a4f412",
   "metadata": {},
   "source": [
    "We propagate the beam in the focus through the entire system onto the paraboloid section. We do not specify the 'device' field in the PO dictionaries. This field defaults to 'CPU' if the CUDA libraries are not compiled. If they are, the field defaults to 'GPU'. Similarly, the number of threads, 'nThreads' is not specified. If 'device' = 'CPU', 'nThreads' defaults to the total number of CPU threads in your computer. If 'device' = 'GPU', 'nThreads' defaults to 256 threads per CUDA block. In practice, this number is not critical and therefore does not have to be set often, but if set it should be a multiple of 32.\n",
    "\n",
    "We set, for the first two propagations, the 'mode' parameter to 'JM'. This means we only store the calculated JM currents on the target surface. If we specify 'EH', such as for the last propagation, we only save the illuminating field on the target surface. If we want both, we specify 'mode' as 'JMEH'. Another option, 'FF' for far-field, will be explained in more detail below. The last option, 'EHP', stores the reflected field and corresponding Poynting vectors. With this option it is possible to do a combined ray-trace and PO approach. This will be introduced in a later tutorial."
   ]
  },
  {
   "cell_type": "code",
   "execution_count": null,
   "id": "4b746942",
   "metadata": {},
   "outputs": [],
   "source": [
    "plane_ff = {\n",
    "            \"name\"      : \"plane_ff\",\n",
    "            \"gmode\"     : \"AoE\",\n",
    "            \"lims_Az\"    : np.array([-0.7, 0.7]) * 6,\n",
    "            \"lims_El\"    : np.array([-0.7, 0.7]) * 6 - 90,\n",
    "            \"gridsize\"  : np.array([301, 301])\n",
    "            }\n",
    "s.addPlane(plane_ff)\n",
    "\n",
    "par_to_plane_ff_PO = {\n",
    "    \"t_name\"      : \"plane_ff\",\n",
    "    \"s_current\"   : \"JM_par\",\n",
    "    \"mode\"        : \"FF\",\n",
    "    \"name_EH\"     : \"EH_FF\",\n",
    "    \"nThreads\"    : 256,\n",
    "    \"device\"      : \"GPU\",\n",
    "    \"epsilon\"     : 10\n",
    "}\n",
    "\n",
    "\n",
    "\n",
    "s.runPO(par_to_plane_ff_PO)"
   ]
  },
  {
   "cell_type": "code",
   "execution_count": null,
   "id": "78d3eb5a",
   "metadata": {
    "scrolled": false
   },
   "outputs": [],
   "source": [
    "s.plotBeam2D(\"EH_FF\", \"Ex\", vmin=-30, vmax=0, amp_only=True)"
   ]
  },
  {
   "cell_type": "markdown",
   "id": "dbe81529",
   "metadata": {},
   "source": [
    "In this final section, we propagate the field from the paraboloid to the far-field. We do this by specifying the 'gmode' parameter to be 'AoE', which stands for Azimuth-over-Elevation (the only far-field co-ordinate system currently present in PyPO). The limits in 'AoE' mode are given in degrees. Note that we subtract 90 degrees from the Elevation limits. This is because the paraboloid illuminates the far-field along the x-axis. Also, note that the xyz components of the resulting far-field object do not align with the axes shown in the system plot. This is because, in the resulting fields object, x now aligns with the field along the Azimuthal direction (the y-axis in the original co-ordinate system) and y points along the Elevation direction (the z-axis in the original co-ordinate system). "
   ]
  },
  {
   "cell_type": "code",
   "execution_count": null,
   "id": "8d60cc5f",
   "metadata": {},
   "outputs": [],
   "source": []
  }
 ],
 "metadata": {
  "kernelspec": {
   "display_name": "Python 3 (ipykernel)",
   "language": "python",
   "name": "python3"
  },
  "language_info": {
   "codemirror_mode": {
    "name": "ipython",
    "version": 3
   },
   "file_extension": ".py",
   "mimetype": "text/x-python",
   "name": "python",
   "nbconvert_exporter": "python",
   "pygments_lexer": "ipython3",
   "version": "3.9.2"
  }
 },
 "nbformat": 4,
 "nbformat_minor": 5
}
