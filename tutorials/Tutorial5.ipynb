{
 "cells": [
  {
   "cell_type": "markdown",
   "id": "de21a0df",
   "metadata": {},
   "source": [
    "# Tutorial 5: PO efficiencies and metrics.\n",
    "In this tutorial, we will simulate a simple Cassegrain reflector telescope. We demonstrate how PyPO can be used to calculate some common figures of merit, such as efficiencies and far-field parameters."
   ]
  },
  {
   "cell_type": "code",
   "execution_count": null,
   "id": "f7dea505",
   "metadata": {},
   "outputs": [],
   "source": [
    "%matplotlib notebook\n",
    "\n",
    "import numpy as np\n",
    "\n",
    "from src.PyPO.System import System\n",
    "\n",
    "s = System()"
   ]
  },
  {
   "cell_type": "code",
   "execution_count": null,
   "id": "8b1c311f",
   "metadata": {
    "scrolled": false
   },
   "outputs": [],
   "source": [
    "parabola = {\n",
    "            \"name\"      : \"primary\",\n",
    "            \"pmode\"     : \"focus\",\n",
    "            \"gmode\"     : \"uv\",\n",
    "            \"vertex\"    : np.zeros(3),\n",
    "            \"focus_1\"   : np.array([0, 0, 3.5e3]),\n",
    "            \"lims_u\"    : np.array([300, 5e3]),\n",
    "            \"lims_v\"    : np.array([0, 360]),\n",
    "            \"gridsize\"  : np.array([1801, 801])\n",
    "            }\n",
    "\n",
    "s.addParabola(parabola)\n",
    "\n",
    "hyperbola = {\n",
    "            \"name\"      : \"secondary\",\n",
    "            \"pmode\"     : \"focus\",\n",
    "            \"gmode\"     : \"uv\",\n",
    "            \"flip\"      : True,\n",
    "            \"focus_1\"   : np.array([0, 0, 3.5e3]),\n",
    "            \"focus_2\"   : np.array([0, 0, -1e3]),\n",
    "            \"ecc\"       : 1.1,\n",
    "            \"lims_u\"    : np.array([0, 300]),\n",
    "            \"lims_v\"    : np.array([0, 360]),\n",
    "            \"gridsize\"  : np.array([1501, 501])\n",
    "            }\n",
    "\n",
    "s.addHyperbola(hyperbola)\n",
    "\n",
    "focus = {\n",
    "            \"name\"      : \"focus\",\n",
    "            \"gmode\"     : \"uv\",\n",
    "            \"lims_u\"    : np.array([0, 10]),\n",
    "            \"lims_v\"    : np.array([0, 360]),\n",
    "            \"gridsize\"  : np.array([101, 101])\n",
    "            }\n",
    "\n",
    "s.addPlane(focus)\n",
    "\n",
    "farfield = {\n",
    "            \"name\"      : \"farfield\",\n",
    "            \"gmode\"     : \"AoE\",\n",
    "            \"lims_Az\"    : np.array([-0.02, 0.02]),\n",
    "            \"lims_El\"    : np.array([-0.02, 0.02]),\n",
    "            \"gridsize\"  : np.array([101, 101])\n",
    "            }\n",
    "\n",
    "s.addPlane(farfield)\n",
    "\n",
    "GPODict = {                                                                                                                                                                     \n",
    "            \"name\"      : \"source\",                                                                                                                                  \n",
    "            \"lam\"       : 1,                                                                                                      \n",
    "            \"w0x\"       : 5,                                                                                             \n",
    "            \"w0y\"       : 5,                                                                                             \n",
    "            \"n\"         : 1,                                                                                                                             \n",
    "            \"E0\"        : 1,                                                                                                                                  \n",
    "            \"dxyz\"      : 0,                                                                                                 \n",
    "            \"pol\"       : np.array([1, 0, 0])                                                                                                          \n",
    "}\n",
    "\n",
    "s.createGaussian(GPODict, \"focus\")\n",
    "s.translateGrids(\"focus\", np.array([0, 0, -1e3]))"
   ]
  },
  {
   "cell_type": "markdown",
   "id": "8dc82089",
   "metadata": {},
   "source": [
    "We start by defining the Cassegrain reflectors. we also place a Gaussian beam in the lower focus of the Cassegrain. We define the Gaussian such that the secondary has an edge taper of roughly -11 dB. \n",
    "\n",
    "Now we are going to calculate all currents on the reflectors and the far-field. WARNING: the following code might take alot of time, especially if you are not running CUDA."
   ]
  },
  {
   "cell_type": "code",
   "execution_count": null,
   "id": "a5e6624d",
   "metadata": {},
   "outputs": [],
   "source": [
    "source_to_sec = {\n",
    "        \"t_name\"    : \"secondary\",\n",
    "        \"s_current\" : \"source\",\n",
    "        \"epsilon\"   : 10,\n",
    "        \"mode\"      : \"JM\",\n",
    "        \"name_JM\"   : \"JM_sec\",\n",
    "        }\n",
    "\n",
    "s.runPO(source_to_sec)\n",
    "\n",
    "sec_to_pri = {\n",
    "        \"t_name\"    : \"primary\",\n",
    "        \"s_current\" : \"JM_sec\",\n",
    "        \"epsilon\"   : 10,\n",
    "        \"mode\"      : \"JM\",\n",
    "        \"name_JM\"   : \"JM_pri\",\n",
    "        }\n",
    "\n",
    "s.runPO(sec_to_pri)\n",
    "\n",
    "pri_to_ff = {\n",
    "        \"t_name\"    : \"farfield\",\n",
    "        \"s_current\" : \"JM_pri\",\n",
    "        \"epsilon\"   : 10,\n",
    "        \"mode\"      : \"FF\",\n",
    "        \"name_EH\"   : \"EH_ff\",\n",
    "        }\n",
    "\n",
    "s.runPO(pri_to_ff)"
   ]
  },
  {
   "cell_type": "code",
   "execution_count": null,
   "id": "4728c482",
   "metadata": {
    "scrolled": false
   },
   "outputs": [],
   "source": [
    "s.plotBeam2D(\"EH_ff\", \"Ex\", vmin=-30)"
   ]
  },
  {
   "cell_type": "markdown",
   "id": "0598e9c8",
   "metadata": {},
   "source": [
    "Now that we have obtained currents on all reflectors and the far-field, we can proceed with the efficiencies calculation. We start by calculating the spillover efficiency on the secondary mirror. For that, we define a plane at the rim height of the secondary. We find the rim height by generating the reflectorgrids and using numpy to find the maximum z co-ordinate. The plane we define is oversized with respect to the secondary radius. This is done in order to capture as much illumination as possible on the plane."
   ]
  },
  {
   "cell_type": "code",
   "execution_count": null,
   "id": "b931f5ba",
   "metadata": {},
   "outputs": [],
   "source": [
    "grids_sec = s.generateGrids(\"secondary\")\n",
    "\n",
    "h_rim = np.max(grids_sec.z)\n",
    "\n",
    "rim_hyperbola = {\n",
    "            \"name\"      : \"rim_sec\",\n",
    "            \"gmode\"     : \"uv\",\n",
    "            \"flip\"      : True,\n",
    "            \"lims_u\"    : np.array([0, 300]) * 2,\n",
    "            \"lims_v\"    : np.array([0, 360]),\n",
    "            \"gridsize\"  : np.array([1501, 501])\n",
    "            }\n",
    "\n",
    "s.addPlane(rim_hyperbola)\n",
    "s.translateGrids(\"rim_sec\", np.array([0, 0, h_rim]))\n",
    "\n",
    "source_to_rim_sec = {\n",
    "        \"t_name\"    : \"rim_sec\",\n",
    "        \"s_current\" : \"source\",\n",
    "        \"epsilon\"   : 10,\n",
    "        \"mode\"      : \"EH\",\n",
    "        \"name_EH\"   : \"EH_rim_sec\"\n",
    "        }\n",
    "\n",
    "s.runPO(source_to_rim_sec)\n",
    "\n",
    "aper_sec = {\n",
    "        \"plot\"      : True,\n",
    "        \"center\"    : np.zeros(2),\n",
    "        \"outer\"     : np.array([300, 300]),\n",
    "        \"inner\"     : np.zeros(2)\n",
    "}\n",
    "\n",
    "s.plotBeam2D(\"EH_rim_sec\", \"Ex\", vmin=-30, aperDict=aper_sec)"
   ]
  },
  {
   "cell_type": "markdown",
   "id": "487cd4d5",
   "metadata": {},
   "source": [
    "The spillover efficiency is calculated by defining an aperture (called 'aper_sec' here) on which to calculate spillover losses. The aperture is again a dictionary containing several fields. For an explanation, please have a look in the Templates.py file."
   ]
  },
  {
   "cell_type": "code",
   "execution_count": null,
   "id": "a0cb3db3",
   "metadata": {},
   "outputs": [],
   "source": [
    "eta_s = s.calcSpillover(\"EH_rim_sec\", \"Ex\", aper_sec)"
   ]
  },
  {
   "cell_type": "markdown",
   "id": "075225ad",
   "metadata": {},
   "source": [
    "The taper efficiency is calculated in the primary aperture. For this we define a plane in the focus of the primary, with the same radius as the primary mirror itself. Because the reflector is large compared to our wavelength, it is infeasible to calculate the aperture field directly using PO. Instead, we adopt a hybrid method where we assume the secondary is sufficiently far from the primary that we can use ray-tracing to calculate the pathlength of a ray of light between the secondary and primary. Also, because the rays coming from the secondary appear to emanate from the prime focus, we need to take into account a spherical spreading factor. Knowing the attenuation factor and the pathlength for a ray, we can calculate the field at the end of the ray by multiplying the reflected field from the secondary by a complex exponential taking into account the travelled distance and by a factor taking into account the spherical spreading.\n",
    "\n",
    "Fortunately, this is quite easy in PyPO. We start by defining a new version of the secondary. For this, we use the copyElement method of system to create a copy. Then, we increase the gridsize quite alot so that we have a good ray coverage over the secondary. We then do a regular PO propagation from the source onto the secondary. This time, we set 'mode' to 'EHP'. This returns the reflected electromagnetic fields and the corresponding Poynting vectors. We then pass the Poynting vectors, reflected field, target name and output names into a dictionary named hybridDict. Also, we pass 'start' as a numpy array of length 3. This parameters sets the origin of our rays coming from the secondary in the primary focus, and is important for calculating the spherical spreading factor which is present when propagating from the secondary to the primary. We set 'interp' to False, as we do not need to interpolate the propagated field yet.\n",
    "\n",
    "The second hybrid propagation has a similar input structure, propagating the hybrid field calculated on the primary to the aperture in the focus. However, we now do not need to set 'start' now, because the rays are more or less collimated and do not emanate from a focus. We also pass 'comp' as 'Ex'. Because we interpolate the resulting field on the target surface, we pass the component we want. If we do not pass 'comp' and leave 'interp' to default, PyPO will interpolate all E and H components and this takes considerably longer."
   ]
  },
  {
   "cell_type": "code",
   "execution_count": null,
   "id": "07005bb3",
   "metadata": {},
   "outputs": [],
   "source": [
    "s.copyElement(\"secondary\", \"secondary_over\")\n",
    "s.system[\"secondary_over\"][\"gridsize\"] = np.array([2501, 2501])\n",
    "\n",
    "foc_pri = {\n",
    "            \"name\"      : \"foc_pri\",\n",
    "            \"gmode\"     : \"uv\",\n",
    "            \"lims_u\"    : np.array([300, 5e3]),\n",
    "            \"lims_v\"    : np.array([0, 360]),\n",
    "            \"gridsize\"  : np.array([1501, 1501])\n",
    "            }\n",
    "\n",
    "s.addPlane(foc_pri)\n",
    "s.translateGrids(\"foc_pri\", np.array([0, 0, 3.5e3]))\n",
    "\n",
    "source_to_sec_over = {\n",
    "        \"t_name\"    : \"secondary_over\",\n",
    "        \"s_current\" : \"source\",\n",
    "        \"epsilon\"   : 10,\n",
    "        \"mode\"      : \"EHP\",\n",
    "        \"name_EH\"   : \"EH_ref_sec\",\n",
    "        \"name_P\"    : \"P_sec\"\n",
    "        }\n",
    "\n",
    "s.runPO(source_to_sec_over)\n",
    "\n",
    "hybrid_1 = {\n",
    "        \"fr_in\"     : \"P_sec\",\n",
    "        \"field_in\"  : \"EH_ref_sec\",\n",
    "        \"t_name\"    : \"primary\",\n",
    "        \"fr_out\"    : \"primary_frame\",\n",
    "        \"field_out\" : \"primary_hfield\",\n",
    "        \"start\"     : np.array([0, 0, 3.5e3]),\n",
    "        \"interp\"    : False\n",
    "}\n",
    "\n",
    "hybrid_2 = {\n",
    "        \"fr_in\"     : \"primary_frame\",\n",
    "        \"field_in\"  : \"primary_hfield\",\n",
    "        \"t_name\"    : \"foc_pri\",\n",
    "        \"fr_out\"    : \"foc_pri_frame\",\n",
    "        \"field_out\" : \"foc_pri_hfield\",\n",
    "        \"comp\"      : \"Ex\"\n",
    "}\n",
    "\n",
    "s.runHybridPropagation(hybrid_1)\n",
    "s.runHybridPropagation(hybrid_2)"
   ]
  },
  {
   "cell_type": "code",
   "execution_count": null,
   "id": "fdc13a8a",
   "metadata": {
    "scrolled": false
   },
   "outputs": [],
   "source": [
    "s.plotBeam2D(\"foc_pri_hfield\", \"Ex\", vmin=-30)"
   ]
  },
  {
   "cell_type": "code",
   "execution_count": null,
   "id": "083e97f4",
   "metadata": {},
   "outputs": [],
   "source": [
    "eta_t = s.calcTaper(\"foc_pri_hfield\", \"Ex\")"
   ]
  },
  {
   "cell_type": "markdown",
   "id": "9f8b1459",
   "metadata": {},
   "source": [
    "Now that we have the secondary spillover and taper efficiencies calculated, we can quickly calculate the cross-polarization efficiency induced by the Cassegrain setup, and use these three efficiencies to calculate the total aperture efficiency of this setup, which is just the product of the three efficiencies. Usually, the cross-polar efficiency is close to unity, but we calculate anyways, to demonstrate."
   ]
  },
  {
   "cell_type": "code",
   "execution_count": null,
   "id": "eeef1cc2",
   "metadata": {},
   "outputs": [],
   "source": [
    "eta_X = s.calcXpol(\"EH_ff\", \"Ex\", \"Ey\")"
   ]
  },
  {
   "cell_type": "markdown",
   "id": "d0e55d43",
   "metadata": {},
   "source": [
    "We can also calculate some more parameters. For example, we could calculate the main beam efficiency. This is a metric quantifying the amount of power in the main lobe with respect to the entire beam pattern. Another metric we can calculate is the half-power beamwidth (or more generally, for ellipsoidal beam patterns, the half-power beamwidths), HPBW for short. These represent the widths of the beam in both cardinal planes (the cross sections where the beam is the fattest and the slimmest). PyPO calculates these in arcseconds, so to convert to degrees, we have to divide by 3600. We also calculate diffraction-limited HPBW, to compare.\n",
    "\n",
    "We can also calculate the taper efficiency from the main beam efficiency and HPBWs:\n",
    "$$ \\eta_\\mathrm{t} = \\frac{\\lambda^2}{A} \\frac{\\eta_\\mathrm{mb}}{\\Omega_\\mathrm{mb}}, $$\n",
    "where $\\lambda$ is the wavelength of light, $A$ the area of the aperture, $\\eta_\\mathrm{mb}$ the main beam efficiency and $\\Omega_\\mathrm{mb}$ the main beam solid angle, defined as:\n",
    "$$ \\Omega_\\mathrm{mb} = \\frac{\\pi \\theta_\\mathrm{E} \\theta_\\mathrm{H}}{4 \\ln 2}, $$\n",
    "where $\\theta$ is the HPBW in the E or H-plane, in radians.\n",
    "\n",
    "In order to obtain the total aperture efficiency from this taper efficiency, we just multiply by the spillover efficiency and cross-polar efficiency"
   ]
  },
  {
   "cell_type": "code",
   "execution_count": null,
   "id": "d6a17e59",
   "metadata": {},
   "outputs": [],
   "source": [
    "eta_mb = s.calcMainBeam(\"EH_ff\", \"Ex\")\n",
    "Ebw, Hbw = s.calcHPBW(\"EH_ff\", \"Ex\")\n",
    "\n",
    "diff_lim = 1 / (10e3) * 180 / np.pi * 3600\n",
    "\n",
    "Omega = np.pi * (np.pi / (180*3600))**2 * Ebw * Hbw / (4 * np.log(2))\n",
    "eta_ap = 1 / (np.pi * (5e3)**2) * eta_mb / Omega * eta_s * eta_X"
   ]
  },
  {
   "cell_type": "markdown",
   "id": "d81d5ee2",
   "metadata": {},
   "source": [
    "As an overview, we now print all results from our calculations:"
   ]
  },
  {
   "cell_type": "code",
   "execution_count": null,
   "id": "4fada2ff",
   "metadata": {},
   "outputs": [],
   "source": [
    "print(\"*** RESULTS ***\")\n",
    "print(f\"Spillover efficiency on secondary: {eta_s:.3f}\")\n",
    "print(f\"Taper efficiency in primary aperture: {eta_t:.3f}\")\n",
    "print(f\"Cross polar efficiency: {eta_X:.6f}\")\n",
    "print(\"\")\n",
    "print(f\"Main beam efficiency: {eta_mb:.3f}\")\n",
    "print(f\"HPBW in E-plane: {Ebw:.3f} as\")\n",
    "print(f\"HPBW in H-plane: {Hbw:.3f} as\")\n",
    "print(f\"Diffraction-limited HPBW: {diff_lim:.3f} as\")\n",
    "print(\"\")\n",
    "print(f\"Total aperture efficiency from propagation: {eta_X * eta_s * eta_t:.3f}\")\n",
    "print(f\"Total aperture efficiency from far-field pattern: {eta_ap:.3f}\")"
   ]
  },
  {
   "cell_type": "markdown",
   "id": "c6b2c226",
   "metadata": {},
   "source": [
    "We can see that there is a 2% discrepancy between the aperture efficiency calculated by forward propagation and by using the far-field pattern. This is because of the different methods involved. Finally, we can plot the cross-sections through the cardinal planes to really see the sidelobes of our far-field pattern:"
   ]
  },
  {
   "cell_type": "code",
   "execution_count": null,
   "id": "5a8f8738",
   "metadata": {},
   "outputs": [],
   "source": [
    "s.plotBeamCut(\"EH_ff\", \"Ex\")"
   ]
  },
  {
   "cell_type": "markdown",
   "id": "30407330",
   "metadata": {},
   "source": [
    "As expected, the cross sections are very symmetric and show the characteristic sidelobes for circularly symmetric reflectors. As an exercise to the reader, can you make a setup for calculating, for example, the spillover losses on the primary reflector? Or maybe see what the effect is of slightly tilting the Gaussian source on the aperture efficiency?"
   ]
  },
  {
   "cell_type": "code",
   "execution_count": null,
   "id": "ddfb1c7f",
   "metadata": {},
   "outputs": [],
   "source": []
  }
 ],
 "metadata": {
  "kernelspec": {
   "display_name": "Python 3 (ipykernel)",
   "language": "python",
   "name": "python3"
  },
  "language_info": {
   "codemirror_mode": {
    "name": "ipython",
    "version": 3
   },
   "file_extension": ".py",
   "mimetype": "text/x-python",
   "name": "python",
   "nbconvert_exporter": "python",
   "pygments_lexer": "ipython3",
   "version": "3.9.2"
  }
 },
 "nbformat": 4,
 "nbformat_minor": 5
}
