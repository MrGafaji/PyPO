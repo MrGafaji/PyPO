{
 "cells": [
  {
   "cell_type": "markdown",
   "id": "de21a0df",
   "metadata": {},
   "source": [
    "# Tutorial 5: PO efficiencies and metrics.\n",
    "In this tutorial, we will simulate a simple Cassegrain reflector telescope. We demonstrate how PyPO can be used to calculate some common figures of merit, such as efficiencies and far-field parameters."
   ]
  },
  {
   "cell_type": "code",
   "execution_count": null,
   "id": "f7dea505",
   "metadata": {},
   "outputs": [],
   "source": [
    "%matplotlib notebook\n",
    "\n",
    "import numpy as np\n",
    "\n",
    "from src.PyPO.System import System\n",
    "\n",
    "s = System()"
   ]
  },
  {
   "cell_type": "code",
   "execution_count": null,
   "id": "8b1c311f",
   "metadata": {
    "scrolled": false
   },
   "outputs": [],
   "source": [
    "parabola = {\n",
    "            \"name\"      : \"primary\",\n",
    "            \"pmode\"     : \"focus\",\n",
    "            \"gmode\"     : \"uv\",\n",
    "            \"vertex\"    : np.zeros(3),\n",
    "            \"focus_1\"   : np.array([0, 0, 3.5e3]),\n",
    "            \"lims_u\"    : np.array([300, 5e3]),\n",
    "            \"lims_v\"    : np.array([0, 360]),\n",
    "            \"gridsize\"  : np.array([1801, 801])\n",
    "            }\n",
    "\n",
    "s.addParabola(parabola)\n",
    "\n",
    "hyperbola = {\n",
    "            \"name\"      : \"secondary\",\n",
    "            \"pmode\"     : \"focus\",\n",
    "            \"gmode\"     : \"uv\",\n",
    "            \"flip\"      : True,\n",
    "            \"focus_1\"   : np.array([0, 0, 3.5e3]),\n",
    "            \"focus_2\"   : np.array([0, 0, -1e3]),\n",
    "            \"ecc\"       : 1.1,\n",
    "            \"lims_u\"    : np.array([0, 300]),\n",
    "            \"lims_v\"    : np.array([0, 360]),\n",
    "            \"gridsize\"  : np.array([1501, 501])\n",
    "            }\n",
    "\n",
    "s.addHyperbola(hyperbola)\n",
    "\n",
    "focus = {\n",
    "            \"name\"      : \"focus\",\n",
    "            \"gmode\"     : \"uv\",\n",
    "            \"lims_u\"    : np.array([0, 10]),\n",
    "            \"lims_v\"    : np.array([0, 360]),\n",
    "            \"gridsize\"  : np.array([101, 101])\n",
    "            }\n",
    "\n",
    "s.addPlane(focus)\n",
    "\n",
    "farfield = {\n",
    "            \"name\"      : \"farfield\",\n",
    "            \"gmode\"     : \"AoE\",\n",
    "            \"lims_u\"    : np.array([-0.02, 0.02]),\n",
    "            \"lims_v\"    : np.array([-0.02, 0.02]),\n",
    "            \"gridsize\"  : np.array([101, 101])\n",
    "            }\n",
    "\n",
    "s.addPlane(farfield)\n",
    "\n",
    "GPODict = {                                                                                                                                                                     \n",
    "            \"name\"      : \"source\",                                                                                                                                  \n",
    "            \"lam\"       : 1,                                                                                                      \n",
    "            \"w0x\"       : 5,                                                                                             \n",
    "            \"w0y\"       : 5,                                                                                             \n",
    "            \"n\"         : 1,                                                                                                                             \n",
    "            \"E0\"        : 1,                                                                                                                                  \n",
    "            \"dxyz\"      : 0,                                                                                                 \n",
    "            \"pol\"       : np.array([1, 0, 0])                                                                                                          \n",
    "}\n",
    "\n",
    "s.createGaussian(GPODict, \"focus\")\n",
    "s.translateGrids(\"focus\", np.array([0, 0, -1e3]))"
   ]
  },
  {
   "cell_type": "markdown",
   "id": "8dc82089",
   "metadata": {},
   "source": [
    "We start by defining the Cassegrain reflectors. we also place a Gaussian beam in the lower focus of the Cassegrain. We define the Gaussian such that the secondary has an edge taper of roughly -11 dB. \n",
    "\n",
    "Now we are going to calculate all currents on the reflectors and the far-field. WARNING: the following code might take alot of time, especially if you are not running CUDA."
   ]
  },
  {
   "cell_type": "code",
   "execution_count": null,
   "id": "6a0628e8",
   "metadata": {},
   "outputs": [],
   "source": [
    "source_to_sec = {\n",
    "        \"t_name\"    : \"secondary\",\n",
    "        \"s_current\" : \"source\",\n",
    "        \"epsilon\"   : 10,\n",
    "        \"mode\"      : \"JM\",\n",
    "        \"name_JM\"   : \"JM_sec\",\n",
    "        }\n",
    "\n",
    "s.runPO(source_to_sec)\n",
    "\n",
    "sec_to_pri = {\n",
    "        \"t_name\"    : \"primary\",\n",
    "        \"s_current\" : \"JM_sec\",\n",
    "        \"epsilon\"   : 10,\n",
    "        \"mode\"      : \"JM\",\n",
    "        \"name_JM\"   : \"JM_pri\",\n",
    "        }\n",
    "\n",
    "s.runPO(sec_to_pri)\n",
    "\n",
    "pri_to_ff = {\n",
    "        \"t_name\"    : \"farfield\",\n",
    "        \"s_current\" : \"JM_pri\",\n",
    "        \"epsilon\"   : 10,\n",
    "        \"mode\"      : \"FF\",\n",
    "        \"name_JM\"   : \"EH_ff\",\n",
    "        }\n",
    "\n",
    "s.runPO(pri_to_ff)"
   ]
  },
  {
   "cell_type": "code",
   "execution_count": null,
   "id": "4728c482",
   "metadata": {
    "scrolled": false
   },
   "outputs": [],
   "source": [
    "s.plotBeam2D(\"EH_ff\", \"Ex\", vmin=-30)"
   ]
  },
  {
   "cell_type": "markdown",
   "id": "0598e9c8",
   "metadata": {},
   "source": [
    "Now that we have obtained currents on all reflectors and the far-field, we can proceed with the efficiencies calculation. We start by calculating the spillover efficiency on the secondary mirror. For that, we define a plane at the rim height of the secondary. We find the rim height by generating the reflectorgrids and using numpy to find the maximum z co-ordinate. The plane we define is oversized with respect to the secondary radius. This is done in order to capture as much illumination as possible on the plane."
   ]
  },
  {
   "cell_type": "code",
   "execution_count": null,
   "id": "b931f5ba",
   "metadata": {},
   "outputs": [],
   "source": [
    "grids_sec = s.generateGrids(\"secondary\")\n",
    "\n",
    "h_rim = np.max(grids_sec.z)\n",
    "\n",
    "rim_hyperbola = {\n",
    "            \"name\"      : \"rim_sec\",\n",
    "            \"gmode\"     : \"uv\",\n",
    "            \"flip\"      : True,\n",
    "            \"lims_u\"    : np.array([0, 300]) * 2,\n",
    "            \"lims_v\"    : np.array([0, 360]),\n",
    "            \"gridsize\"  : np.array([1501, 501])\n",
    "            }\n",
    "\n",
    "s.addPlane(rim_hyperbola)\n",
    "s.translateGrids(\"rim_sec\", np.array([0, 0, h_rim]))\n",
    "\n",
    "source_to_rim_sec = {\n",
    "        \"t_name\"    : \"rim_sec\",\n",
    "        \"s_current\" : \"source\",\n",
    "        \"epsilon\"   : 10,\n",
    "        \"mode\"      : \"EH\",\n",
    "        \"name_EH\"   : \"EH_rim_sec\"\n",
    "        }\n",
    "\n",
    "s.runPO(source_to_rim_sec)\n",
    "\n",
    "aper_sec = {\n",
    "        \"plot\"      : True,\n",
    "        \"center\"    : np.zeros(2),\n",
    "        \"outer\"     : np.array([300, 300]),\n",
    "        \"inner\"     : np.zeros(2)\n",
    "}\n",
    "\n",
    "s.plotBeam2D(\"EH_rim_sec\", \"Ex\", vmin=-30, aperDict=aper_sec)"
   ]
  },
  {
   "cell_type": "markdown",
   "id": "487cd4d5",
   "metadata": {},
   "source": [
    "The spillover efficiency is calculated by defining an aperture (called 'aper_sec' here) on which to calculate spillover losses. The aperture is again a dictionary containing several fields. For an explanation, please have a look in the Templates.py file."
   ]
  },
  {
   "cell_type": "code",
   "execution_count": null,
   "id": "a0cb3db3",
   "metadata": {},
   "outputs": [],
   "source": [
    "eta_s = s.calcSpillover(\"EH_rim_sec\", \"Ex\", aper_sec)\n",
    "print(f\"Spillover efficiency on secondary: {eta_s:.3f}\")"
   ]
  },
  {
   "cell_type": "markdown",
   "id": "7897f17e",
   "metadata": {},
   "source": [
    "The taper efficiency is calculated in the primary aperture. For this we define a plane in the focus of the primary, with the same radius as the primary mirror itself."
   ]
  },
  {
   "cell_type": "code",
   "execution_count": null,
   "id": "fdc13a8a",
   "metadata": {},
   "outputs": [],
   "source": [
    "foc_pri = {\n",
    "            \"name\"      : \"foc_pri\",\n",
    "            \"gmode\"     : \"uv\",\n",
    "            \"lims_u\"    : np.array([300, 5e3]),\n",
    "            \"lims_v\"    : np.array([0, 360]),\n",
    "            \"gridsize\"  : np.array([1501, 501])\n",
    "            }\n",
    "\n",
    "s.addPlane(foc_pri)\n",
    "s.translateGrids(\"foc_pri\", np.array([0, 0, 3.5e3]))\n",
    "\n",
    "pri_to_foc_pri = {\n",
    "        \"t_name\"    : \"foc_pri\",\n",
    "        \"s_current\" : \"JM_pri\",\n",
    "        \"epsilon\"   : 10,\n",
    "        \"mode\"      : \"EH\",\n",
    "        \"name_EH\"   : \"EH_foc_pri\"\n",
    "        }\n",
    "\n",
    "s.runPO(pri_to_foc_pri)\n",
    "\n",
    "s.plotBeam2D(\"EH_foc_pri\", \"Ex\", vmin=-30)"
   ]
  },
  {
   "cell_type": "code",
   "execution_count": null,
   "id": "083e97f4",
   "metadata": {},
   "outputs": [],
   "source": [
    "eta_t = s.calcTaper(\"EH_foc_pri\", \"Ex\")\n",
    "print(f\"Taper efficiency in primary aperture: {eta_t:.3f}\")"
   ]
  },
  {
   "cell_type": "code",
   "execution_count": null,
   "id": "b6492988",
   "metadata": {},
   "outputs": [],
   "source": []
  }
 ],
 "metadata": {
  "kernelspec": {
   "display_name": "Python 3 (ipykernel)",
   "language": "python",
   "name": "python3"
  },
  "language_info": {
   "codemirror_mode": {
    "name": "ipython",
    "version": 3
   },
   "file_extension": ".py",
   "mimetype": "text/x-python",
   "name": "python",
   "nbconvert_exporter": "python",
   "pygments_lexer": "ipython3",
   "version": "3.9.2"
  }
 },
 "nbformat": 4,
 "nbformat_minor": 5
}
