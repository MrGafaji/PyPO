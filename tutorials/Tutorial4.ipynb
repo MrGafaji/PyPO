{
 "cells": [
  {
   "cell_type": "markdown",
   "id": "f0c106eb",
   "metadata": {},
   "source": [
    "# Tutorial 4: Backward propagation.\n",
    "In this tutorial, we will explore the backward propagation features of PyPO. We demonstrate this by making a source, consisting of two randomly placed uniformly lit rectangles, propagating this field to a plane above the source and backwards to another plane at the same height of the source. We can then investigate to what degree PyPO can recover the shape of the source."
   ]
  },
  {
   "cell_type": "code",
   "execution_count": null,
   "id": "e3473bf2",
   "metadata": {},
   "outputs": [],
   "source": [
    "%matplotlib notebook\n",
    "\n",
    "import numpy as np\n",
    "\n",
    "from src.PyPO.System import System\n",
    "\n",
    "s = System()"
   ]
  },
  {
   "cell_type": "code",
   "execution_count": null,
   "id": "86399d65",
   "metadata": {
    "scrolled": false
   },
   "outputs": [],
   "source": [
    "source_1 = {\n",
    "        \"name\"      : \"source_1\",\n",
    "        \"gmode\"     : \"xy\",\n",
    "        \"lims_x\"    : np.array([-10, 10]),\n",
    "        \"lims_y\"    : np.array([-5, 5]),\n",
    "        \"gridsize\"  : np.array([301, 301])\n",
    "        }\n",
    "source_2 = {\n",
    "        \"name\"      : \"source_2\",\n",
    "        \"gmode\"     : \"xy\",\n",
    "        \"lims_x\"    : np.array([-10, 10]),\n",
    "        \"lims_y\"    : np.array([-8, 8]),\n",
    "        \"gridsize\"  : np.array([301, 301])\n",
    "        }\n",
    "\n",
    "plane_up = {\n",
    "        \"name\"      : \"plane_up\",\n",
    "        \"gmode\"     : \"xy\",\n",
    "        \"lims_x\"    : np.array([-50, 50]),\n",
    "        \"lims_y\"    : np.array([-50, 50]),\n",
    "        \"gridsize\"  : np.array([501, 501]),\n",
    "        \"flip\"      : True\n",
    "        }\n",
    "\n",
    "plane_down = {\n",
    "        \"name\"      : \"plane_down\",\n",
    "        \"gmode\"     : \"xy\",\n",
    "        \"lims_x\"    : np.array([-20, 20]),\n",
    "        \"lims_y\"    : np.array([-20, 20]),\n",
    "        \"gridsize\"  : np.array([301, 301])\n",
    "        }\n",
    "\n",
    "s.addPlane(source_1)\n",
    "s.addPlane(source_2)\n",
    "\n",
    "s.addPlane(plane_up)\n",
    "s.addPlane(plane_down)\n",
    "\n",
    "s.rotateGrids(\"source_1\", np.array([0, 0, 30]))\n",
    "s.rotateGrids(\"source_2\", np.array([0, 0, 110]))\n",
    "\n",
    "UDict_1 = {\n",
    "        \"name\"      : \"U1_source\",\n",
    "        \"lam\"       : 1,\n",
    "        \"E0\"        : 1,\n",
    "        \"phase\"     : 0,\n",
    "        \"pol\"       : np.array([1,0,0])\n",
    "        }\n",
    "\n",
    "UDict_2 = {\n",
    "        \"name\"      : \"U2_source\",\n",
    "        \"lam\"       : 1,\n",
    "        \"E0\"        : 1,\n",
    "        #\"phase\"     : 0, # In phase with source 1\n",
    "        \"phase\"     : -np.pi, # Out of phase\n",
    "        \"pol\"       : np.array([1,0,0])\n",
    "        }\n",
    "\n",
    "s.createUniformSource(UDict_1, \"source_1\")\n",
    "s.createUniformSource(UDict_2, \"source_2\")\n",
    "\n",
    "s.translateGrids(\"plane_up\", np.array([0, 0, 100]))\n",
    "s.translateGrids(\"source_1\", np.array([5, 5, 0]))\n",
    "s.translateGrids(\"source_2\", np.array([-5, -5, 0]))\n",
    "\n",
    "s.plotBeam2D(\"U1_source\", \"Ex\", mode=\"linear\")\n",
    "s.plotBeam2D(\"U2_source\", \"Ex\", mode=\"linear\")\n",
    "s.plotSystem(select=[\"source_1\", \"source_2\"])"
   ]
  },
  {
   "cell_type": "markdown",
   "id": "920bd510",
   "metadata": {},
   "source": [
    "We created two uniformly lit rectangles, rotated these by some amount and translated them. We also placed the two sources in phase. This implies that the illumination of the upper plane, where we propagate to, is double in the overlap of the rectangles making up the source. If we place one rectangle at a phase of -pi, the illumination will cancel out in the overlap. In the above cell, both options are present and can be tried.  "
   ]
  },
  {
   "cell_type": "code",
   "execution_count": null,
   "id": "b345f1e3",
   "metadata": {},
   "outputs": [],
   "source": [
    "runPODict1 = {\n",
    "        \"t_name\"    : \"plane_up\",\n",
    "        \"s_current\" : \"U1_source\",\n",
    "        \"epsilon\"   : 10,\n",
    "        \"exp\"       : \"fwd\",\n",
    "        \"mode\"      : \"JMEH\",\n",
    "        \"name_JM\"   : \"JM_up\",\n",
    "        \"name_EH\"   : \"EH_up\"\n",
    "        }\n",
    "\n",
    "runPODict2 = {\n",
    "        \"t_name\"    : \"plane_up\",\n",
    "        \"s_current\" : \"U2_source\",\n",
    "        \"epsilon\"   : 10,\n",
    "        \"exp\"       : \"fwd\",\n",
    "        \"mode\"      : \"JMEH\",\n",
    "        \"name_JM\"   : \"JM_up2\",\n",
    "        \"name_EH\"   : \"EH_up2\"\n",
    "        }\n",
    "\n",
    "runPODict_bwd = {\n",
    "        \"t_name\"    : \"plane_down\",\n",
    "        \"s_current\" : \"JM_up_combined\",\n",
    "        \"epsilon\"   : 10,\n",
    "        \"exp\"       : \"bwd\",\n",
    "        \"mode\"      : \"JMEH\",\n",
    "        \"name_JM\"   : \"JM_down\",\n",
    "        \"name_EH\"   : \"EH_down\"\n",
    "        }\n",
    "\n",
    "s.runPO(runPODict1)\n",
    "s.runPO(runPODict2)\n",
    "\n",
    "s.mergeBeams(\"EH_up\", \"EH_up2\", merged_name=\"EH_up_combined\")\n",
    "s.mergeBeams(\"JM_up\", \"JM_up2\", obj=\"currents\", merged_name=\"JM_up_combined\")\n",
    "\n",
    "s.runPO(runPODict_bwd)\n",
    "s.plotBeam2D(\"EH_up_combined\", \"Ex\", vmin=-30)\n",
    "s.plotBeam2D(\"EH_down\", \"Ex\", vmin=-30)"
   ]
  },
  {
   "cell_type": "markdown",
   "id": "c3a9dea3",
   "metadata": {},
   "source": [
    "We propagate both rectangles separately to the upper plane. Here, we merge the two fields using the mergeBeams method of the system. This method accepts a sequence of fields or currents and merges this into a single object. It is necessary for the fields/currents to be defined on the same surface. If we want to merge currents, the 'obj' keyword should be passed along with the value set to 'currents'.\n",
    "\n",
    "We then propagate the combined current backwards to the plane below. This plane is at the same height as our rectangular sources. The direction of propagation is specified by the 'exp' field in runPODict_bwd. This field defaults to 'fwd', for forward, and we set it to 'bwd' to propagate backward.\n",
    "\n",
    "Upon inspection, the backwards propagated field resembles the rectangular sources quite well. If the phases of the source fields are the same, the overlap region should be brighter. If they are in anti-phase, the overlap should be dark."
   ]
  },
  {
   "cell_type": "code",
   "execution_count": null,
   "id": "7a924c32",
   "metadata": {
    "scrolled": false
   },
   "outputs": [],
   "source": []
  }
 ],
 "metadata": {
  "kernelspec": {
   "display_name": "Python 3 (ipykernel)",
   "language": "python",
   "name": "python3"
  },
  "language_info": {
   "codemirror_mode": {
    "name": "ipython",
    "version": 3
   },
   "file_extension": ".py",
   "mimetype": "text/x-python",
   "name": "python",
   "nbconvert_exporter": "python",
   "pygments_lexer": "ipython3",
   "version": "3.9.2"
  }
 },
 "nbformat": 4,
 "nbformat_minor": 5
}
