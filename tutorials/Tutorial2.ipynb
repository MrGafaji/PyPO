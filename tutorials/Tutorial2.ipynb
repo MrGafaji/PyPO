{
 "cells": [
  {
   "cell_type": "markdown",
   "id": "314843f4",
   "metadata": {},
   "source": [
    "# Tutorial 2: more advanced optical systems and ray-tracing options.\n",
    "In the previous tutorial we built a simple optical system consisting of a paraboloid. We then performed a ray-trace from the initial frame of rays to the paraboloid surface, and from the paraboloid we found the focus of the fram by calling the s.findRTfocus method. We did all of this using the tubular ray-trace frame input.\n",
    "\n",
    "In this tutorial, we will introduce the Gaussian ray-trace frame. We will then create an optical setup that is slightly more advanced."
   ]
  },
  {
   "cell_type": "code",
   "execution_count": null,
   "id": "39bba558",
   "metadata": {},
   "outputs": [],
   "source": [
    "%matplotlib notebook\n",
    "\n",
    "import numpy as np\n",
    "\n",
    "from src.PyPO.System import System\n",
    "\n",
    "s = System()"
   ]
  },
  {
   "cell_type": "markdown",
   "id": "d5165943",
   "metadata": {},
   "source": [
    "After making an empty system, we are going to create our elements:"
   ]
  },
  {
   "cell_type": "code",
   "execution_count": null,
   "id": "0f20bfb6",
   "metadata": {},
   "outputs": [],
   "source": [
    "ellipse = {\n",
    "            \"name\"      : \"ellipsoid\",\n",
    "            \"pmode\"     : \"focus\",\n",
    "            \"gmode\"     : \"uv\",\n",
    "            \"flip\"      : True,\n",
    "            \"focus_1\"   : np.array([0, 0, 100]),\n",
    "            \"focus_2\"   : np.array([0, 0, -100]),\n",
    "            \"orient\"    : \"z\",\n",
    "            \"ecc\"       : 0.5,\n",
    "            \"lims_u\"    : np.array([0, 50]),\n",
    "            \"lims_v\"    : np.array([0, 360]),\n",
    "            \"gridsize\"  : np.array([801, 801])\n",
    "            }\n",
    "\n",
    "s.addEllipse(ellipse)\n",
    "#s.plotSystem()"
   ]
  },
  {
   "cell_type": "code",
   "execution_count": null,
   "id": "e130bc53",
   "metadata": {
    "scrolled": true
   },
   "outputs": [],
   "source": [
    "RTpar = {\n",
    "        \"name\"      : \"start\",\n",
    "        \"nRays\"     : 2000,\n",
    "        \"lam\"       : 0.01,\n",
    "        \"n\"         : 1,\n",
    "        \"seed\"      : 0,\n",
    "        \"x0\"        : 0.05,\n",
    "        \"y0\"        : 0.05\n",
    "        }\n",
    "\n",
    "s.createGRTFrame(RTpar)\n",
    "s.translateGrids(\"start\", np.array([0, 0, 100]), obj=\"frame\")\n",
    "#s.rotateGrids(\"start\", np.array([0, 2, 0]), obj=\"frame\")\n",
    "print(s.calcSpotRMS(\"start\"))\n"
   ]
  },
  {
   "cell_type": "code",
   "execution_count": null,
   "id": "7cbc68b1",
   "metadata": {},
   "outputs": [],
   "source": [
    "start_ell_RT = {\n",
    "            \"fr_in\"     : \"start\",\n",
    "            \"t_name\"    : \"ellipsoid\",\n",
    "            \"fr_out\"    : \"fr_ell\",\n",
    "            \"device\"    : \"CPU\",\n",
    "            \"tol\"       : 1e-6\n",
    "            }\n",
    "\n",
    "s.runRayTracer(start_ell_RT)\n",
    "#s.plotRTframe(\"fr_ell\", project='yz')"
   ]
  },
  {
   "cell_type": "code",
   "execution_count": null,
   "id": "c0ff5802",
   "metadata": {
    "scrolled": false
   },
   "outputs": [],
   "source": [
    "s.findRTfocus(\"fr_ell\")\n",
    "\n",
    "s.plotRTframe(\"focus_fr_ell\")\n",
    "s.plotSystem(RTframes=[\"start\", \"fr_ell\", \"focus_fr_ell\"])"
   ]
  },
  {
   "cell_type": "code",
   "execution_count": null,
   "id": "4c952d48",
   "metadata": {},
   "outputs": [],
   "source": [
    "plane_focus_tilt = {\n",
    "    \n",
    "}"
   ]
  },
  {
   "cell_type": "code",
   "execution_count": null,
   "id": "556af9d8",
   "metadata": {},
   "outputs": [],
   "source": []
  }
 ],
 "metadata": {
  "kernelspec": {
   "display_name": "Python 3 (ipykernel)",
   "language": "python",
   "name": "python3"
  },
  "language_info": {
   "codemirror_mode": {
    "name": "ipython",
    "version": 3
   },
   "file_extension": ".py",
   "mimetype": "text/x-python",
   "name": "python",
   "nbconvert_exporter": "python",
   "pygments_lexer": "ipython3",
   "version": "3.9.2"
  }
 },
 "nbformat": 4,
 "nbformat_minor": 5
}
