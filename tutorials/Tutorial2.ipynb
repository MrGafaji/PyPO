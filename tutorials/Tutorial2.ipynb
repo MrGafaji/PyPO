{
 "cells": [
  {
   "cell_type": "markdown",
   "id": "aec7abd1",
   "metadata": {},
   "source": [
    "# Tutorial 2: more advanced optical systems and ray-tracing options.\n",
    "In the previous tutorial we built a simple optical system consisting of a paraboloid. We then performed a ray-trace from the initial frame of rays to the paraboloid surface, and from the paraboloid we found the focus of the frame by calling the s.findRTfocus method. We did all of this using the tubular ray-trace frame input.\n",
    "\n",
    "In this tutorial, we will introduce Gaussian ray-trace frames. We will then create an optical setup that is slightly more advanced, where we try to generate a collimated beam from a Gaussian ray-trace beam.   "
   ]
  },
  {
   "cell_type": "code",
   "execution_count": null,
   "id": "39bba558",
   "metadata": {},
   "outputs": [],
   "source": [
    "%matplotlib notebook\n",
    "\n",
    "import numpy as np\n",
    "\n",
    "from src.PyPO.System import System\n",
    "\n",
    "s = System()"
   ]
  },
  {
   "cell_type": "code",
   "execution_count": null,
   "id": "31562a25",
   "metadata": {},
   "outputs": [],
   "source": [
    "RTpar = {\n",
    "        \"name\"      : \"start\",\n",
    "        \"nRays\"     : 5000,\n",
    "        \"lam\"       : 0.01,\n",
    "        \"n\"         : 1,\n",
    "        \"seed\"      : 0,\n",
    "        \"x0\"        : 0.05,\n",
    "        \"y0\"        : 0.05\n",
    "        }\n",
    "\n",
    "s.createGRTFrame(RTpar)\n",
    "#s.rotateGrids(\"start\", np.array([0, 10, 0]), obj=\"frame\")\n",
    "s.translateGrids(\"start\", np.array([0, 0, 100]), obj=\"frame\")\n",
    "s.plotRTframe(\"start\", project='xy')"
   ]
  },
  {
   "cell_type": "markdown",
   "id": "d04af9ae",
   "metadata": {},
   "source": [
    "We start by making an ellipsoidal reflector. We place the semi-major axis along the z-axis by setting 'orient' to 'z'. "
   ]
  },
  {
   "cell_type": "code",
   "execution_count": null,
   "id": "0f20bfb6",
   "metadata": {},
   "outputs": [],
   "source": [
    "ellipse = {\n",
    "            \"name\"      : \"ellipsoid\",\n",
    "            \"pmode\"     : \"focus\",\n",
    "            \"gmode\"     : \"uv\",\n",
    "            \"flip\"      : True,\n",
    "            \"focus_1\"   : np.array([0, 0, 100]),\n",
    "            \"focus_2\"   : np.array([0, 0, -100]),\n",
    "            \"orient\"    : \"z\",\n",
    "            \"ecc\"       : 0.5,\n",
    "            \"lims_u\"    : np.array([0, 30]),\n",
    "            \"lims_v\"    : np.array([0, 360]),\n",
    "            \"gridsize\"  : np.array([801, 801])\n",
    "            }\n",
    "\n",
    "s.addEllipse(ellipse)\n",
    "\n",
    "plane_t = {\n",
    "            \"name\"      : \"plane_t\",\n",
    "            \"gmode\"     : \"uv\",\n",
    "            \"lims_u\"    : np.array([0, 10]),\n",
    "            \"lims_v\"    : np.array([0, 360]),\n",
    "            \"gridsize\"  : np.array([801, 801])\n",
    "            }\n",
    "\n",
    "s.addPlane(plane_t)\n",
    "s.rotateGrids(\"plane_t\", np.array([45, 0, 0]))\n",
    "\n",
    "parabola = {\n",
    "            \"name\"      : \"paraboloid\",\n",
    "            \"pmode\"     : \"focus\",\n",
    "            \"gmode\"     : \"uv\",\n",
    "            \"focus_1\"   : np.array([0, -100, 0]),\n",
    "            \"vertex\"    : np.array([-10, -100, 0]),\n",
    "            \"lims_u\"    : np.array([0, 5]),\n",
    "            \"lims_v\"    : np.array([0, 360]),\n",
    "            \"gcenter\"   : np.array([0,-20]),\n",
    "            \"gridsize\"  : np.array([801, 801])\n",
    "            }\n",
    "\n",
    "s.addParabola(parabola)\n",
    "\n",
    "plane_out = {\n",
    "            \"name\"      : \"plane_out\",\n",
    "            \"gmode\"     : \"xy\",\n",
    "            \"lims_x\"    : np.array([-10, 10]),\n",
    "            \"lims_y\"    : np.array([-10, 10]),\n",
    "            \"gridsize\"  : np.array([801, 801])\n",
    "            }\n",
    "\n",
    "s.addPlane(plane_out)\n",
    "s.rotateGrids(\"plane_out\", np.array([0, -90, 0]))\n",
    "s.translateGrids(\"plane_out\", np.array([50, -120, 0]))\n",
    "\n",
    "s.plotSystem()"
   ]
  },
  {
   "cell_type": "code",
   "execution_count": null,
   "id": "e130bc53",
   "metadata": {
    "scrolled": true
   },
   "outputs": [],
   "source": [
    "\n"
   ]
  },
  {
   "cell_type": "code",
   "execution_count": null,
   "id": "7cbc68b1",
   "metadata": {
    "scrolled": false
   },
   "outputs": [],
   "source": [
    "start_ell_RT = {\n",
    "            \"fr_in\"     : \"start\",\n",
    "            \"t_name\"    : \"ellipsoid\",\n",
    "            \"fr_out\"    : \"fr_ell\",\n",
    "            \"device\"    : \"CPU\",\n",
    "            \"tol\"       : 1e-6\n",
    "            }\n",
    "\n",
    "s.runRayTracer(start_ell_RT)\n",
    "\n",
    "ell_plane_t_RT = {\n",
    "            \"fr_in\"     : \"fr_ell\",\n",
    "            \"t_name\"    : \"plane_t\",\n",
    "            \"fr_out\"    : \"fr_plane_t\",\n",
    "            \"device\"    : \"CPU\",\n",
    "            \"tol\"       : 1e-6\n",
    "            }\n",
    "\n",
    "s.runRayTracer(ell_plane_t_RT)\n",
    "\n",
    "plane_t_par_RT = {\n",
    "            \"fr_in\"     : \"fr_plane_t\",\n",
    "            \"t_name\"    : \"paraboloid\",\n",
    "            \"fr_out\"    : \"fr_par\",\n",
    "            \"device\"    : \"CPU\",\n",
    "            \"t0\"        : 120,\n",
    "            \"tol\"       : 1e-6\n",
    "            }\n",
    "\n",
    "s.runRayTracer(plane_t_par_RT)\n",
    "\n",
    "par_plane_out_RT = {\n",
    "            \"fr_in\"     : \"fr_par\",\n",
    "            \"t_name\"    : \"plane_out\",\n",
    "            \"fr_out\"    : \"fr_out\",\n",
    "            \"device\"    : \"CPU\",\n",
    "            \"tol\"       : 1e-6\n",
    "            }\n",
    "\n",
    "s.runRayTracer(par_plane_out_RT)\n",
    "s.findRTfocus(\"fr_plane_t\")\n",
    "s.plotSystem(RTframes=[\"start\", \"fr_ell\", \"fr_plane_t\", \"fr_par\", \"fr_out\"])\n",
    "s.plotRTframe(\"fr_out\", project='yz')\n",
    "\n",
    "#s.plotSystem(select=[\"paraboloid\", \"plane_out\"], RTframes=[\"fr_par\", \"fr_out\"])\n",
    "#s.plotRTframe(\"fr_out\", project='yz')"
   ]
  },
  {
   "cell_type": "code",
   "execution_count": null,
   "id": "c0ff5802",
   "metadata": {
    "scrolled": false
   },
   "outputs": [],
   "source": []
  },
  {
   "cell_type": "code",
   "execution_count": null,
   "id": "4c952d48",
   "metadata": {},
   "outputs": [],
   "source": []
  },
  {
   "cell_type": "code",
   "execution_count": null,
   "id": "556af9d8",
   "metadata": {},
   "outputs": [],
   "source": []
  }
 ],
 "metadata": {
  "kernelspec": {
   "display_name": "Python 3 (ipykernel)",
   "language": "python",
   "name": "python3"
  },
  "language_info": {
   "codemirror_mode": {
    "name": "ipython",
    "version": 3
   },
   "file_extension": ".py",
   "mimetype": "text/x-python",
   "name": "python",
   "nbconvert_exporter": "python",
   "pygments_lexer": "ipython3",
   "version": "3.9.2"
  }
 },
 "nbformat": 4,
 "nbformat_minor": 5
}
