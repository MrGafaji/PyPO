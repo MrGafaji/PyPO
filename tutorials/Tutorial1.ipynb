{
 "cells": [
  {
   "cell_type": "code",
   "execution_count": null,
   "id": "38608f40",
   "metadata": {},
   "outputs": [],
   "source": [
    "# Tutorial 1: building an optical system and performing ray-traces.\n",
    "In this tutorial, we will build a simple optical system consisting of a parabolic reflector."
   ]
  },
  {
   "cell_type": "code",
   "execution_count": null,
   "id": "84a6483b",
   "metadata": {},
   "outputs": [],
   "source": []
  }
 ],
 "metadata": {
  "kernelspec": {
   "display_name": "Python 3 (ipykernel)",
   "language": "python",
   "name": "python3"
  },
  "language_info": {
   "codemirror_mode": {
    "name": "ipython",
    "version": 3
   },
   "file_extension": ".py",
   "mimetype": "text/x-python",
   "name": "python",
   "nbconvert_exporter": "python",
   "pygments_lexer": "ipython3",
   "version": "3.9.2"
  }
 },
 "nbformat": 4,
 "nbformat_minor": 5
}
