{
 "cells": [
  {
   "cell_type": "markdown",
   "id": "148ec889",
   "metadata": {},
   "source": [
    "# Demo 1: phase conservation of backwards propagation"
   ]
  },
  {
   "cell_type": "markdown",
   "id": "b53d4e2a",
   "metadata": {},
   "source": [
    "A demo to see if backwards propagation correctly calculates the initial phase of a point source.                     We generate three point sources, at phases of -3, 0 and 3 radians.\n",
    "These fields are propagated to a plane above the point sources and propagated backwards.                             Then, the mean phase of the field below is calculated and compared to the original phase value.                     Finally, the phase differences are plotted as function of original phase.                                "
   ]
  },
  {
   "cell_type": "code",
   "execution_count": 4,
   "id": "7149085c",
   "metadata": {},
   "outputs": [
    {
     "name": "stdout",
     "output_type": "stream",
     "text": [
      "\u001b[33;1m2023-06-18 18:21:43 - WARNING - System override set to True. \u001b[0m\n",
      "\u001b[32;20m2023-06-18 18:21:43 - INFO - EXITING SYSTEM. \u001b[0m\n",
      "\u001b[32;20m2023-06-18 18:21:43 - INFO - Added plane source to system. \u001b[0m\n",
      "\u001b[32;20m2023-06-18 18:21:43 - INFO - Added plane plane_up to system. \u001b[0m\n",
      "\u001b[32;20m2023-06-18 18:21:43 - INFO - Added plane plane_down to system. \u001b[0m\n",
      "\u001b[32;20m2023-06-18 18:21:43 - INFO - Translated element plane_up by ('0.000e+00', '0.000e+00', '1.000e+02') millimeters. \u001b[0m\n",
      "\u001b[34;1m2023-06-18 18:21:43 - WORK - *** Starting PO propagation *** \u001b[0m\n",
      "\u001b[34;1m2023-06-18 18:21:43 - WORK - Propagating PS_source on source to plane_up, propagation mode: JMEH. \u001b[0m\n",
      "\u001b[34;1m2023-06-18 18:21:43 - WORK - Hardware: running 256 CUDA threads per block. \u001b[0m\n",
      "\u001b[34;1m2023-06-18 18:21:43 - WORK - ... Calculating ... \u001b[0m\n",
      "\u001b[34;1m2023-06-18 18:21:43 - WORK - *** Finished: 0.085 seconds *** \u001b[0m\n",
      "\u001b[34;1m2023-06-18 18:21:43 - WORK - *** Starting PO propagation *** \u001b[0m\n",
      "\u001b[34;1m2023-06-18 18:21:43 - WORK - Propagating JM_up on plane_up to plane_down, propagation mode: JMEH. \u001b[0m\n",
      "\u001b[34;1m2023-06-18 18:21:43 - WORK - Hardware: running 256 CUDA threads per block. \u001b[0m\n",
      "\u001b[34;1m2023-06-18 18:21:43 - WORK - ... Calculating ... \u001b[0m\n",
      "\u001b[34;1m2023-06-18 18:21:43 - WORK - *** Finished: 0.136 seconds *** \u001b[0m\n",
      "\u001b[32;20m2023-06-18 18:21:43 - INFO - Translated element plane_up by ('0.000e+00', '0.000e+00', '1.000e+02') millimeters. \u001b[0m\n",
      "\u001b[34;1m2023-06-18 18:21:43 - WORK - *** Starting PO propagation *** \u001b[0m\n",
      "\u001b[34;1m2023-06-18 18:21:43 - WORK - Propagating PS_source on source to plane_up, propagation mode: JMEH. \u001b[0m\n",
      "\u001b[34;1m2023-06-18 18:21:43 - WORK - Hardware: running 256 CUDA threads per block. \u001b[0m\n",
      "\u001b[34;1m2023-06-18 18:21:43 - WORK - ... Calculating ... \u001b[0m\n",
      "\u001b[34;1m2023-06-18 18:21:43 - WORK - *** Finished: 0.070 seconds *** \u001b[0m\n",
      "\u001b[34;1m2023-06-18 18:21:43 - WORK - *** Starting PO propagation *** \u001b[0m\n",
      "\u001b[34;1m2023-06-18 18:21:43 - WORK - Propagating JM_up on plane_up to plane_down, propagation mode: JMEH. \u001b[0m\n",
      "\u001b[34;1m2023-06-18 18:21:43 - WORK - Hardware: running 256 CUDA threads per block. \u001b[0m\n",
      "\u001b[34;1m2023-06-18 18:21:43 - WORK - ... Calculating ... \u001b[0m\n",
      "\u001b[34;1m2023-06-18 18:21:43 - WORK - *** Finished: 0.155 seconds *** \u001b[0m\n",
      "\u001b[32;20m2023-06-18 18:21:43 - INFO - Translated element plane_up by ('0.000e+00', '0.000e+00', '1.000e+02') millimeters. \u001b[0m\n",
      "\u001b[34;1m2023-06-18 18:21:43 - WORK - *** Starting PO propagation *** \u001b[0m\n",
      "\u001b[34;1m2023-06-18 18:21:43 - WORK - Propagating PS_source on source to plane_up, propagation mode: JMEH. \u001b[0m\n",
      "\u001b[34;1m2023-06-18 18:21:43 - WORK - Hardware: running 256 CUDA threads per block. \u001b[0m\n",
      "\u001b[34;1m2023-06-18 18:21:43 - WORK - ... Calculating ... \u001b[0m\n",
      "\u001b[34;1m2023-06-18 18:21:44 - WORK - *** Finished: 0.095 seconds *** \u001b[0m\n",
      "\u001b[34;1m2023-06-18 18:21:44 - WORK - *** Starting PO propagation *** \u001b[0m\n",
      "\u001b[34;1m2023-06-18 18:21:44 - WORK - Propagating JM_up on plane_up to plane_down, propagation mode: JMEH. \u001b[0m\n",
      "\u001b[34;1m2023-06-18 18:21:44 - WORK - Hardware: running 256 CUDA threads per block. \u001b[0m\n",
      "\u001b[34;1m2023-06-18 18:21:44 - WORK - ... Calculating ... \u001b[0m\n",
      "\u001b[34;1m2023-06-18 18:21:44 - WORK - *** Finished: 0.129 seconds *** \u001b[0m\n"
     ]
    },
    {
     "data": {
      "image/png": "[encoded data removed]",
      "text/plain": [
       "<Figure size 500x500 with 1 Axes>"
      ]
     },
     "metadata": {},
     "output_type": "display_data"
    }
   ],
   "source": [
    "#%matplotlib notebook # Uncomment for interactive plots when running the notebook!\n",
    "\n",
    "import matplotlib.pyplot as pt\n",
    "\n",
    "import numpy as np\n",
    "from pathlib import Path\n",
    "\n",
    "from PyPO.System import System\n",
    "\n",
    "s = System()\n",
    "\n",
    "D = 100 # Distance between point source and upper screen.\n",
    "    \n",
    "source = {\n",
    "        \"name\"      : \"source\",\n",
    "        \"gmode\"     : \"xy\",\n",
    "        \"lims_x\"    : np.array([-0.01, 0.01]),\n",
    "        \"lims_y\"    : np.array([-0.01, 0.01]),\n",
    "        \"gridsize\"  : np.array([31, 31])\n",
    "        }\n",
    "\n",
    "plane_up = {\n",
    "        \"name\"      : \"plane_up\",\n",
    "        \"gmode\"     : \"uv\",\n",
    "        \"lims_u\"    : np.array([0, 100]),\n",
    "        \"lims_v\"    : np.array([0, 360]),\n",
    "        \"gridsize\"  : np.array([101, 101]),\n",
    "        \"flip\"      : True\n",
    "        }\n",
    "\n",
    "plane_down = {\n",
    "        \"name\"      : \"plane_down\",\n",
    "        \"gmode\"     : \"uv\",\n",
    "        \"lims_u\"    : np.array([0, 0.1]),\n",
    "        \"lims_v\"    : np.array([0, 360]),\n",
    "        \"gridsize\"  : np.array([101, 101])\n",
    "        }\n",
    "\n",
    "s.addPlane(source)\n",
    "s.addPlane(plane_up)\n",
    "s.addPlane(plane_down)\n",
    "\n",
    "ph_diff = []\n",
    "phases = np.linspace(-3, 3, 3)\n",
    "for ph in phases:\n",
    "    PSDict = {\n",
    "            \"name\"      : \"PS_source\",\n",
    "            \"lam\"       : 1,\n",
    "            \"E0\"        : 1,\n",
    "            \"phase\"     : ph,\n",
    "            \"pol\"       : np.array([1,0,0])\n",
    "            }\n",
    "\n",
    "    s.createPointSource(PSDict, \"source\")\n",
    "\n",
    "    s.translateGrids(\"plane_up\", np.array([0, 0, 100]))\n",
    "\n",
    "    runPODict = {\n",
    "            \"t_name\"    : \"plane_up\",\n",
    "            \"s_current\" : \"PS_source\",\n",
    "            \"epsilon\"   : 10,\n",
    "            \"exp\"       : \"fwd\",\n",
    "            \"mode\"      : \"JMEH\",\n",
    "            \"name_JM\"   : \"JM_up\",\n",
    "            \"name_EH\"   : \"EH_up\",\n",
    "            }\n",
    "\n",
    "    runPODict_bwd = {\n",
    "            \"t_name\"    : \"plane_down\",\n",
    "            \"s_current\" : \"JM_up\",\n",
    "            \"epsilon\"   : 10,\n",
    "            \"exp\"       : \"bwd\",\n",
    "            \"mode\"      : \"JMEH\",\n",
    "            \"name_JM\"   : \"JM_down\",\n",
    "            \"name_EH\"   : \"EH_down\",\n",
    "            }\n",
    "\n",
    "    s.runPO(runPODict)\n",
    "    s.runPO(runPODict_bwd)\n",
    "\n",
    "    # The mean phase is simply calculated as the means of the phase over the surface.\n",
    "    phase_Ex = np.mean(np.angle(s.fields[\"EH_down\"].Ex))\n",
    "    ph_diff.append(ph - phase_Ex)\n",
    "\n",
    "fig, ax = pt.subplots(1,1, figsize=(5,5))\n",
    "ax.scatter(phases, ph_diff)\n",
    "ax.set_xlabel(r\"$\\phi_0$ / radians\")\n",
    "ax.set_ylabel(r\"$\\Delta \\phi$ / radians\")\n",
    "pt.show()"
   ]
  },
  {
   "cell_type": "markdown",
   "id": "d416c41d",
   "metadata": {},
   "source": [
    "In the image above, $\\phi_0$ represents the initial phase and $\\Delta \\phi = \\phi_0 - \\phi_\\mathrm{bw}$ the phase difference between the initial phase and mean backwards propagated phase. It can be seen that the difference is small for all $\\phi_0$."
   ]
  },
  {
   "cell_type": "code",
   "execution_count": null,
   "id": "e94c9d83",
   "metadata": {},
   "outputs": [],
   "source": []
  }
 ],
 "metadata": {
  "kernelspec": {
   "display_name": "Python 3 (ipykernel)",
   "language": "python",
   "name": "python3"
  },
  "language_info": {
   "codemirror_mode": {
    "name": "ipython",
    "version": 3
   },
   "file_extension": ".py",
   "mimetype": "text/x-python",
   "name": "python",
   "nbconvert_exporter": "python",
   "pygments_lexer": "ipython3",
   "version": "3.9.2"
  }
 },
 "nbformat": 4,
 "nbformat_minor": 5
}
